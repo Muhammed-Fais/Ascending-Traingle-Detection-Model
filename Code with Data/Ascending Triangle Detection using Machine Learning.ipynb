{
 "cells": [
  {
   "cell_type": "markdown",
   "id": "fe19dec3",
   "metadata": {},
   "source": [
    "#### Step 1: Importing Required Libraries"
   ]
  },
  {
   "cell_type": "code",
   "execution_count": 2,
   "id": "a5df6209",
   "metadata": {},
   "outputs": [],
   "source": [
    "import pandas as pd\n",
    "import numpy as np\n",
    "import plotly.graph_objs as go\n",
    "import plotly.graph_objects as go\n",
    "from plotly.subplots import make_subplots"
   ]
  },
  {
   "cell_type": "markdown",
   "id": "90153f0f",
   "metadata": {},
   "source": [
    "#### Step 2: Load and display the dataset"
   ]
  },
  {
   "cell_type": "code",
   "execution_count": 3,
   "id": "c40a59b7",
   "metadata": {},
   "outputs": [],
   "source": [
    "\n",
    "# Here i'm using Excel data becuase CSV data have some issues when i'm import the data.\n",
    "# So that i converted data into Excel.\n",
    "\n",
    "\n",
    "df = pd.read_excel('DataHistoSP.xlsx', index_col='Time')"
   ]
  },
  {
   "cell_type": "code",
   "execution_count": 4,
   "id": "a4d15f1a",
   "metadata": {},
   "outputs": [
    {
     "data": {
      "text/html": [
       "<div>\n",
       "<style scoped>\n",
       "    .dataframe tbody tr th:only-of-type {\n",
       "        vertical-align: middle;\n",
       "    }\n",
       "\n",
       "    .dataframe tbody tr th {\n",
       "        vertical-align: top;\n",
       "    }\n",
       "\n",
       "    .dataframe thead th {\n",
       "        text-align: right;\n",
       "    }\n",
       "</style>\n",
       "<table border=\"1\" class=\"dataframe\">\n",
       "  <thead>\n",
       "    <tr style=\"text-align: right;\">\n",
       "      <th></th>\n",
       "      <th>Open</th>\n",
       "      <th>High</th>\n",
       "      <th>Low</th>\n",
       "      <th>Close</th>\n",
       "    </tr>\n",
       "    <tr>\n",
       "      <th>Time</th>\n",
       "      <th></th>\n",
       "      <th></th>\n",
       "      <th></th>\n",
       "      <th></th>\n",
       "    </tr>\n",
       "  </thead>\n",
       "  <tbody>\n",
       "    <tr>\n",
       "      <th>2021.01.02 23:00</th>\n",
       "      <td>3733.00</td>\n",
       "      <td>3733.00</td>\n",
       "      <td>3733.00</td>\n",
       "      <td>3733.00</td>\n",
       "    </tr>\n",
       "    <tr>\n",
       "      <th>2021.01.03 19:00</th>\n",
       "      <td>3733.00</td>\n",
       "      <td>3733.00</td>\n",
       "      <td>3733.00</td>\n",
       "      <td>3733.00</td>\n",
       "    </tr>\n",
       "    <tr>\n",
       "      <th>2021.01.03 22:00</th>\n",
       "      <td>3733.00</td>\n",
       "      <td>3734.00</td>\n",
       "      <td>3733.00</td>\n",
       "      <td>3733.00</td>\n",
       "    </tr>\n",
       "    <tr>\n",
       "      <th>2021.01.03 23:00</th>\n",
       "      <td>3733.00</td>\n",
       "      <td>3739.75</td>\n",
       "      <td>3726.75</td>\n",
       "      <td>3733.25</td>\n",
       "    </tr>\n",
       "    <tr>\n",
       "      <th>2021.01.04 00:00</th>\n",
       "      <td>3733.25</td>\n",
       "      <td>3733.50</td>\n",
       "      <td>3722.50</td>\n",
       "      <td>3724.75</td>\n",
       "    </tr>\n",
       "  </tbody>\n",
       "</table>\n",
       "</div>"
      ],
      "text/plain": [
       "                     Open     High      Low    Close\n",
       "Time                                                \n",
       "2021.01.02 23:00  3733.00  3733.00  3733.00  3733.00\n",
       "2021.01.03 19:00  3733.00  3733.00  3733.00  3733.00\n",
       "2021.01.03 22:00  3733.00  3734.00  3733.00  3733.00\n",
       "2021.01.03 23:00  3733.00  3739.75  3726.75  3733.25\n",
       "2021.01.04 00:00  3733.25  3733.50  3722.50  3724.75"
      ]
     },
     "execution_count": 4,
     "metadata": {},
     "output_type": "execute_result"
    }
   ],
   "source": [
    "# This function displays the first 5 rows of the DataFrame 'df'. \n",
    "\n",
    "df.head()"
   ]
  },
  {
   "cell_type": "markdown",
   "id": "b750c0fd",
   "metadata": {},
   "source": [
    "#### Step 3: Checking the dataset having missing values"
   ]
  },
  {
   "cell_type": "code",
   "execution_count": 5,
   "id": "33195bf6",
   "metadata": {},
   "outputs": [
    {
     "name": "stdout",
     "output_type": "stream",
     "text": [
      "Open     0\n",
      "High     0\n",
      "Low      0\n",
      "Close    0\n",
      "dtype: int64\n"
     ]
    }
   ],
   "source": [
    "\n",
    "\n",
    "missing_values = df.isnull().sum()\n",
    "print(missing_values)"
   ]
  },
  {
   "cell_type": "markdown",
   "id": "c23a8ef6",
   "metadata": {},
   "source": [
    "#### Step 4: Drop weekends"
   ]
  },
  {
   "cell_type": "code",
   "execution_count": 6,
   "id": "a17efb51",
   "metadata": {},
   "outputs": [],
   "source": [
    "# (Saturday's and Sunday's) beacause the market is off on these days\n",
    "\n",
    "df = df[pd.DatetimeIndex(df.index).dayofweek < 5]"
   ]
  },
  {
   "cell_type": "code",
   "execution_count": null,
   "id": "ededbb9c",
   "metadata": {},
   "outputs": [],
   "source": []
  },
  {
   "cell_type": "code",
   "execution_count": null,
   "id": "749cffbf",
   "metadata": {},
   "outputs": [],
   "source": []
  },
  {
   "cell_type": "code",
   "execution_count": null,
   "id": "230c7427",
   "metadata": {},
   "outputs": [],
   "source": []
  },
  {
   "cell_type": "code",
   "execution_count": null,
   "id": "f8bd8925",
   "metadata": {},
   "outputs": [],
   "source": []
  },
  {
   "cell_type": "code",
   "execution_count": null,
   "id": "9ebc2db7",
   "metadata": {},
   "outputs": [],
   "source": []
  }
 ],
 "metadata": {
  "kernelspec": {
   "display_name": "Python 3 (ipykernel)",
   "language": "python",
   "name": "python3"
  },
  "language_info": {
   "codemirror_mode": {
    "name": "ipython",
    "version": 3
   },
   "file_extension": ".py",
   "mimetype": "text/x-python",
   "name": "python",
   "nbconvert_exporter": "python",
   "pygments_lexer": "ipython3",
   "version": "3.9.13"
  }
 },
 "nbformat": 4,
 "nbformat_minor": 5
}
